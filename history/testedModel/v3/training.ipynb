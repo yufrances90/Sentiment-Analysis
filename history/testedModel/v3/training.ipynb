{
 "cells": [
  {
   "cell_type": "code",
   "execution_count": 1,
   "metadata": {},
   "outputs": [
    {
     "name": "stderr",
     "output_type": "stream",
     "text": [
      "Using TensorFlow backend.\n"
     ]
    }
   ],
   "source": [
    "import numpy as np # linear algebra\n",
    "import pandas as pd # data processing, CSV file I/O (e.g. pd.read_csv)\n",
    "\n",
    "from keras.preprocessing.text import Tokenizer\n",
    "from keras.preprocessing.sequence import pad_sequences\n",
    "from keras.models import Sequential\n",
    "from keras.layers import Dense, Embedding, LSTM, SpatialDropout1D\n",
    "import re"
   ]
  },
  {
   "cell_type": "code",
   "execution_count": 2,
   "metadata": {},
   "outputs": [
    {
     "data": {
      "text/plain": [
       "<bound method DataFrame.info of                                                  reviews  labels\n",
       "0      russians never drop childrens toy fill explosi...       0\n",
       "1      lady tramp ii colourfully animate songs especi...       1\n",
       "2      could give movie less would certainly read rev...       0\n",
       "3      dont think ive ever give something rat one eas...       0\n",
       "4      funny bits come bill film quote zeitgeist keep...       0\n",
       "...                                                  ...     ...\n",
       "18517  western union something forget classic western...       1\n",
       "18518  movie incredible piece work explore every nook...       1\n",
       "18519  wife watch movie plan visit sicily stromboli s...       0\n",
       "18520  first watch flatliners amaze necessary feature...       1\n",
       "18521  would film good gross estimate award nominatio...       1\n",
       "\n",
       "[18522 rows x 2 columns]>"
      ]
     },
     "execution_count": 2,
     "metadata": {},
     "output_type": "execute_result"
    }
   ],
   "source": [
    "train_data = pd.read_csv('./data/tn_reviews.csv')\n",
    "\n",
    "train_data.info"
   ]
  },
  {
   "cell_type": "code",
   "execution_count": 3,
   "metadata": {},
   "outputs": [
    {
     "data": {
      "text/plain": [
       "<bound method DataFrame.info of                                                 reviews  labels\n",
       "0     years since sharon stone award viewers legcros...       0\n",
       "1     someone need make car payment truly awful make...       0\n",
       "2     guidelines state comment must contain minimum ...       0\n",
       "3     movie muddle mishmash clichés recent cinema pr...       0\n",
       "4     stan laurel become smaller half alltime greate...       0\n",
       "...                                                 ...     ...\n",
       "4995  man love movie really take back kid days teach...       1\n",
       "4996  recovery incredibly move piece work handle dev...       1\n",
       "4997  take crook joint seem exceedingly difficult ta...       1\n",
       "4998  futz show preserve experimental theatre moveme...       1\n",
       "4999  mother tell recently widow mids mother two adu...       1\n",
       "\n",
       "[5000 rows x 2 columns]>"
      ]
     },
     "execution_count": 3,
     "metadata": {},
     "output_type": "execute_result"
    }
   ],
   "source": [
    "valid_data = pd.read_csv('./data/vd_reviews.csv')\n",
    "\n",
    "valid_data.info"
   ]
  },
  {
   "cell_type": "code",
   "execution_count": 4,
   "metadata": {},
   "outputs": [
    {
     "data": {
      "text/plain": [
       "<bound method DataFrame.info of                                                 reviews  labels\n",
       "0     always write series complete stinkfest jim bel...       0\n",
       "1     st watch dirsteve purcell typical mary kate as...       0\n",
       "2     movie poorly write direct fell asleep minutes ...       0\n",
       "3     interest thing miryang secret sunshine actors ...       1\n",
       "4     first read berlin meer didnt expect much think...       0\n",
       "...                                                 ...     ...\n",
       "4995  kind picture john lassiter would make today we...       1\n",
       "4996  must see saw whip press screen hilarious talk ...       1\n",
       "4997  nbc ashamed wouldnt allow children see definit...       0\n",
       "4998  movie clumsy mishmash various ghoststory suspe...       0\n",
       "4999  formula movie illegitimate son rich chilenian ...       0\n",
       "\n",
       "[5000 rows x 2 columns]>"
      ]
     },
     "execution_count": 4,
     "metadata": {},
     "output_type": "execute_result"
    }
   ],
   "source": [
    "test_data = pd.read_csv('./data/tt_reviews.csv')\n",
    "\n",
    "test_data.info"
   ]
  },
  {
   "cell_type": "code",
   "execution_count": 5,
   "metadata": {},
   "outputs": [],
   "source": [
    "max_fatures = 2000"
   ]
  },
  {
   "cell_type": "code",
   "execution_count": 6,
   "metadata": {},
   "outputs": [],
   "source": [
    "tokenizer = Tokenizer(num_words=max_fatures, split=' ')"
   ]
  },
  {
   "cell_type": "code",
   "execution_count": 7,
   "metadata": {},
   "outputs": [],
   "source": [
    "all_reviews = train_data['reviews']\n",
    "\n",
    "all_reviews = all_reviews.append(valid_data['reviews'], ignore_index=True)\n",
    "all_reviews = all_reviews.append(test_data['reviews'], ignore_index=True)"
   ]
  },
  {
   "cell_type": "code",
   "execution_count": 8,
   "metadata": {},
   "outputs": [],
   "source": [
    "tokenizer.fit_on_texts(all_reviews.values)"
   ]
  },
  {
   "cell_type": "code",
   "execution_count": 9,
   "metadata": {},
   "outputs": [
    {
     "data": {
      "text/plain": [
       "(18522, 844)"
      ]
     },
     "execution_count": 9,
     "metadata": {},
     "output_type": "execute_result"
    }
   ],
   "source": [
    "train_x = tokenizer.texts_to_sequences(train_data['reviews'].values)\n",
    "\n",
    "train_x = pad_sequences(train_x)\n",
    "\n",
    "train_y = pd.get_dummies(train_data['labels']).values\n",
    "\n",
    "train_x.shape"
   ]
  },
  {
   "cell_type": "code",
   "execution_count": 10,
   "metadata": {},
   "outputs": [
    {
     "data": {
      "text/plain": [
       "(5000, 844)"
      ]
     },
     "execution_count": 10,
     "metadata": {},
     "output_type": "execute_result"
    }
   ],
   "source": [
    "valid_x = tokenizer.texts_to_sequences(valid_data['reviews'].values)\n",
    "\n",
    "valid_x = pad_sequences(valid_x, maxlen=train_x.shape[1])\n",
    "\n",
    "valid_y = pd.get_dummies(valid_data['labels']).values\n",
    "\n",
    "valid_x.shape"
   ]
  },
  {
   "cell_type": "code",
   "execution_count": 11,
   "metadata": {},
   "outputs": [
    {
     "data": {
      "text/plain": [
       "(5000, 844)"
      ]
     },
     "execution_count": 11,
     "metadata": {},
     "output_type": "execute_result"
    }
   ],
   "source": [
    "test_x = tokenizer.texts_to_sequences(test_data['reviews'].values)\n",
    "\n",
    "test_x = pad_sequences(test_x, maxlen=train_x.shape[1])\n",
    "\n",
    "test_y = pd.get_dummies(test_data['labels']).values\n",
    "\n",
    "test_x.shape"
   ]
  },
  {
   "cell_type": "code",
   "execution_count": 12,
   "metadata": {},
   "outputs": [
    {
     "name": "stdout",
     "output_type": "stream",
     "text": [
      "Model: \"sequential_1\"\n",
      "_________________________________________________________________\n",
      "Layer (type)                 Output Shape              Param #   \n",
      "=================================================================\n",
      "embedding_1 (Embedding)      (None, 844, 128)          256000    \n",
      "_________________________________________________________________\n",
      "spatial_dropout1d_1 (Spatial (None, 844, 128)          0         \n",
      "_________________________________________________________________\n",
      "lstm_1 (LSTM)                (None, 196)               254800    \n",
      "_________________________________________________________________\n",
      "dense_1 (Dense)              (None, 2)                 394       \n",
      "=================================================================\n",
      "Total params: 511,194\n",
      "Trainable params: 511,194\n",
      "Non-trainable params: 0\n",
      "_________________________________________________________________\n",
      "None\n"
     ]
    }
   ],
   "source": [
    "embed_dim = 128\n",
    "lstm_out = 196\n",
    "\n",
    "model = Sequential()\n",
    "model.add(Embedding(max_fatures, embed_dim,input_length = train_x.shape[1]))\n",
    "model.add(SpatialDropout1D(0.4))\n",
    "model.add(LSTM(lstm_out, dropout=0.2, recurrent_dropout=0.2))\n",
    "model.add(Dense(2,activation='softmax'))\n",
    "model.compile(loss = 'categorical_crossentropy', optimizer='adam',metrics = ['accuracy'])\n",
    "print(model.summary())"
   ]
  },
  {
   "cell_type": "code",
   "execution_count": 13,
   "metadata": {},
   "outputs": [
    {
     "name": "stderr",
     "output_type": "stream",
     "text": [
      "/opt/conda/lib/python3.7/site-packages/tensorflow_core/python/framework/indexed_slices.py:433: UserWarning: Converting sparse IndexedSlices to a dense Tensor of unknown shape. This may consume a large amount of memory.\n",
      "  \"Converting sparse IndexedSlices to a dense Tensor of unknown shape. \"\n"
     ]
    },
    {
     "name": "stdout",
     "output_type": "stream",
     "text": [
      "Epoch 1/10\n",
      " - 439s - loss: 0.4533 - accuracy: 0.7881\n",
      "Epoch 2/10\n",
      " - 435s - loss: 0.3501 - accuracy: 0.8539\n",
      "Epoch 3/10\n",
      " - 435s - loss: 0.3175 - accuracy: 0.8694\n",
      "Epoch 4/10\n",
      " - 436s - loss: 0.2913 - accuracy: 0.8837\n",
      "Epoch 5/10\n",
      " - 435s - loss: 0.2699 - accuracy: 0.8894\n",
      "Epoch 6/10\n",
      " - 434s - loss: 0.2709 - accuracy: 0.8908\n",
      "Epoch 7/10\n",
      " - 434s - loss: 0.2443 - accuracy: 0.9019\n",
      "Epoch 8/10\n",
      " - 434s - loss: 0.2209 - accuracy: 0.9126\n",
      "Epoch 9/10\n",
      " - 434s - loss: 0.2053 - accuracy: 0.9203\n",
      "Epoch 10/10\n",
      " - 436s - loss: 0.1882 - accuracy: 0.9273\n"
     ]
    },
    {
     "data": {
      "text/plain": [
       "<keras.callbacks.callbacks.History at 0x7ff8afd50f10>"
      ]
     },
     "execution_count": 13,
     "metadata": {},
     "output_type": "execute_result"
    }
   ],
   "source": [
    "batch_size = 32\n",
    "model.fit(train_x, train_y, epochs = 10, batch_size = batch_size, verbose = 2)"
   ]
  },
  {
   "cell_type": "code",
   "execution_count": 14,
   "metadata": {},
   "outputs": [
    {
     "data": {
      "text/plain": [
       "[0.4193224635601044, 0.8579999804496765]"
      ]
     },
     "execution_count": 14,
     "metadata": {},
     "output_type": "execute_result"
    }
   ],
   "source": [
    "model.evaluate(valid_x, valid_y, verbose = 2, batch_size = batch_size)"
   ]
  },
  {
   "cell_type": "code",
   "execution_count": 15,
   "metadata": {},
   "outputs": [
    {
     "data": {
      "text/plain": [
       "[0.3957594961166382, 0.8651999831199646]"
      ]
     },
     "execution_count": 15,
     "metadata": {},
     "output_type": "execute_result"
    }
   ],
   "source": [
    "model.evaluate(test_x, test_y, verbose = 2, batch_size = batch_size)"
   ]
  },
  {
   "cell_type": "code",
   "execution_count": null,
   "metadata": {},
   "outputs": [],
   "source": []
  }
 ],
 "metadata": {
  "environment": {
   "name": "tf2-gpu.2-1.m48",
   "type": "gcloud",
   "uri": "gcr.io/deeplearning-platform-release/tf2-gpu.2-1:m48"
  },
  "kernelspec": {
   "display_name": "Python 3",
   "language": "python",
   "name": "python3"
  },
  "language_info": {
   "codemirror_mode": {
    "name": "ipython",
    "version": 3
   },
   "file_extension": ".py",
   "mimetype": "text/x-python",
   "name": "python",
   "nbconvert_exporter": "python",
   "pygments_lexer": "ipython3",
   "version": "3.7.6"
  }
 },
 "nbformat": 4,
 "nbformat_minor": 4
}
