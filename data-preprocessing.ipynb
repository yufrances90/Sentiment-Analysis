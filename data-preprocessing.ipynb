{
 "cells": [
  {
   "cell_type": "markdown",
   "metadata": {},
   "source": [
    "## Data Preprocessing"
   ]
  },
  {
   "cell_type": "code",
   "execution_count": 1,
   "metadata": {},
   "outputs": [],
   "source": [
    "import pandas as pd\n",
    "import pickle\n",
    "import torch\n",
    "\n",
    "from utils.helpers import Utility"
   ]
  },
  {
   "cell_type": "code",
   "execution_count": 2,
   "metadata": {},
   "outputs": [],
   "source": [
    "train_df = pd.read_csv(\"data/train.csv\", skiprows=[0], header=[0, 1])"
   ]
  },
  {
   "cell_type": "code",
   "execution_count": 3,
   "metadata": {},
   "outputs": [],
   "source": [
    "valid_df = pd.read_csv(\"data/valid.csv\")"
   ]
  },
  {
   "cell_type": "code",
   "execution_count": 4,
   "metadata": {},
   "outputs": [],
   "source": [
    "test_df = pd.read_csv(\"data/test.csv\")"
   ]
  },
  {
   "cell_type": "code",
   "execution_count": 5,
   "metadata": {},
   "outputs": [],
   "source": [
    "train_df.columns = ['review', 'label']\n",
    "\n",
    "# train_df"
   ]
  },
  {
   "cell_type": "code",
   "execution_count": 6,
   "metadata": {},
   "outputs": [],
   "source": [
    "valid_df.columns = ['review', 'label']\n",
    "\n",
    "# valid_df"
   ]
  },
  {
   "cell_type": "code",
   "execution_count": 7,
   "metadata": {},
   "outputs": [],
   "source": [
    "test_df.columns = ['review', 'label']\n",
    "\n",
    "# test_df"
   ]
  },
  {
   "cell_type": "code",
   "execution_count": 8,
   "metadata": {},
   "outputs": [],
   "source": [
    "train_reviews = train_df['review']\n",
    "train_labels = train_df['label']\n",
    "\n",
    "valid_reviews = valid_df['review']\n",
    "valid_labels = valid_df['label']\n",
    "\n",
    "test_reviews = test_df['review']\n",
    "test_labels = test_df['label']"
   ]
  },
  {
   "cell_type": "code",
   "execution_count": 9,
   "metadata": {},
   "outputs": [],
   "source": [
    "tn_reviews = Utility.escape_special_characters(train_reviews)\n",
    "vd_reviews = Utility.escape_special_characters(valid_reviews)\n",
    "tt_reviews = Utility.escape_special_characters(test_reviews)"
   ]
  },
  {
   "cell_type": "code",
   "execution_count": 10,
   "metadata": {},
   "outputs": [],
   "source": [
    "review_vocab = Utility.generate_review_vocab(tn_reviews)\n",
    "\n",
    "# review_vocab"
   ]
  },
  {
   "cell_type": "code",
   "execution_count": 11,
   "metadata": {},
   "outputs": [
    {
     "data": {
      "text/plain": [
       "[0, 1]"
      ]
     },
     "execution_count": 11,
     "metadata": {},
     "output_type": "execute_result"
    }
   ],
   "source": [
    "label_vocab = Utility.generate_label_vocab(train_labels)\n",
    "\n",
    "label_vocab"
   ]
  },
  {
   "cell_type": "code",
   "execution_count": 12,
   "metadata": {},
   "outputs": [
    {
     "name": "stderr",
     "output_type": "stream",
     "text": [
      "100%|██████████| 18522/18522 [43:58<00:00,  7.02it/s] \n",
      "100%|██████████| 5000/5000 [11:49<00:00,  7.04it/s]\n",
      "100%|██████████| 5000/5000 [11:58<00:00,  6.96it/s]\n"
     ]
    }
   ],
   "source": [
    "tn_review_tensor = Utility.generate_review_tensor(tn_reviews, review_vocab)\n",
    "vd_review_tensor = Utility.generate_review_tensor(vd_reviews, review_vocab)\n",
    "tt_review_tensor = Utility.generate_review_tensor(tt_reviews, review_vocab)"
   ]
  },
  {
   "cell_type": "code",
   "execution_count": 13,
   "metadata": {},
   "outputs": [],
   "source": [
    "tn_label_tensor = Utility.pandas_series_to_torch_tensor(train_labels)\n",
    "vd_label_tensor = Utility.pandas_series_to_torch_tensor(valid_labels)\n",
    "tt_label_tensor = Utility.pandas_series_to_torch_tensor(test_labels)"
   ]
  },
  {
   "cell_type": "code",
   "execution_count": 14,
   "metadata": {},
   "outputs": [],
   "source": [
    "state_dict = {\n",
    "    'tn_reviews': tn_reviews,\n",
    "    'vd_reviews': vd_reviews,\n",
    "    'tt_reviews': tt_reviews,\n",
    "    'tn_review_tensor': tn_review_tensor,\n",
    "    'vd_review_tensor': vd_review_tensor,\n",
    "    'tt_review_tensor': tt_review_tensor,\n",
    "    'tn_label_tensor': tn_label_tensor,\n",
    "    'vd_label_tensor': vd_label_tensor,\n",
    "    'tt_label_tensor': tt_label_tensor,\n",
    "    'review_vocab': review_vocab,\n",
    "    'label_vocab': label_vocab\n",
    "}\n",
    "\n",
    "torch.save(state_dict, 'state_dict.pt')"
   ]
  }
 ],
 "metadata": {
  "environment": {
   "name": "pytorch-gpu.1-4.m48",
   "type": "gcloud",
   "uri": "gcr.io/deeplearning-platform-release/pytorch-gpu.1-4:m48"
  },
  "kernelspec": {
   "display_name": "Python 3",
   "language": "python",
   "name": "python3"
  },
  "language_info": {
   "codemirror_mode": {
    "name": "ipython",
    "version": 3
   },
   "file_extension": ".py",
   "mimetype": "text/x-python",
   "name": "python",
   "nbconvert_exporter": "python",
   "pygments_lexer": "ipython3",
   "version": "3.7.6"
  }
 },
 "nbformat": 4,
 "nbformat_minor": 4
}
